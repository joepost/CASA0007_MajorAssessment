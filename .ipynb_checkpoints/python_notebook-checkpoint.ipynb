{
 "cells": [
  {
   "cell_type": "markdown",
   "id": "1c82d778-34e4-4d9e-bbf6-0c925ea9485c",
   "metadata": {},
   "source": [
    "# CASA0007 Major Assignment"
   ]
  },
  {
   "cell_type": "markdown",
   "id": "cade1c3f-867d-4e4e-9a91-fba61e5f7649",
   "metadata": {},
   "source": [
    "## 1. Overview\n",
    "\n",
    "### 1.1 Research question\n",
    "How are levels of unment HIV pre-exposure prophylaxis (PrEP) need associated with regional characteristics in England?\n",
    "\n",
    "### 1.2 Data Sources\n",
    "1. UK Health Security Agency PrEP Tables, from the [National PrEP monitoring and evaluation framework](https://www.gov.uk/government/publications/hiv-pre-exposure-prophylaxis-prep-monitoring-and-evaluation)\n",
    "2. ONS Census [Geographical Correspondence](https://www.ons.gov.uk/methodology/geography/ukgeographies/administrativegeography/england)\n",
    "3. ONS Census Demographic Data **Find tables**\n"
   ]
  },
  {
   "cell_type": "code",
   "execution_count": 1,
   "id": "a06c8f7a-1d77-4d72-aff1-66d3ef20c51a",
   "metadata": {},
   "outputs": [],
   "source": [
    "#Reading in libaries\n",
    "import pandas as pd\n",
    "import numpy as np\n",
    "import matplotlib.pyplot as plt\n",
    "import seaborn as sns\n",
    "from statsmodels.formula.api import ols\n",
    "from sklearn.model_selection import train_test_split\n",
    "from sklearn.linear_model import LinearRegression\n",
    "import statsmodels.api as sm\n",
    "from statsmodels.stats.outliers_influence import variance_inflation_factor\n"
   ]
  },
  {
   "cell_type": "code",
   "execution_count": 6,
   "id": "9e8c6072-6a45-45f6-96ed-45c6676c287f",
   "metadata": {},
   "outputs": [],
   "source": [
    "# Read in correspondence data\n",
    "correspondence = pd.read_csv('data/pcd_oa_lsoa_msoa_ltla_utla_rgn_ctry_ew_may_2021_lu_v2.csv',\n",
    "                            dtype='str')\n"
   ]
  },
  {
   "cell_type": "code",
   "execution_count": 7,
   "id": "08de6d44-e805-45d3-b77d-d4b7d02ac4fb",
   "metadata": {},
   "outputs": [
    {
     "data": {
      "text/plain": [
       "pcd          object\n",
       "gridgb1e     object\n",
       "gridgb1n     object\n",
       "oa21cd       object\n",
       "lsoa21cd     object\n",
       "lsoa21nm     object\n",
       "msoa21cd     object\n",
       "msoa21nm     object\n",
       "ltla22cd     object\n",
       "ltla22nm     object\n",
       "ltla22nmw    object\n",
       "utla22cd     object\n",
       "utla22nm     object\n",
       "utla22nmw    object\n",
       "rgn22cd      object\n",
       "rgn22nm      object\n",
       "rgn22nmw     object\n",
       "ctry22cd     object\n",
       "ctry22nm     object\n",
       "ctry22nmw    object\n",
       "nat22cd      object\n",
       "nat22nm      object\n",
       "nat22nmw     object\n",
       "dtype: object"
      ]
     },
     "execution_count": 7,
     "metadata": {},
     "output_type": "execute_result"
    }
   ],
   "source": [
    "correspondence.dtypes"
   ]
  },
  {
   "cell_type": "code",
   "execution_count": 8,
   "id": "75fe636b-9423-43e5-94c9-99a7a63f008c",
   "metadata": {},
   "outputs": [
    {
     "data": {
      "text/plain": [
       "<bound method NDFrame.head of              pcd gridgb1e gridgb1n     oa21cd   lsoa21cd  \\\n",
       "0        AL1 1AA   514600  0206900  E00120568  E01023743   \n",
       "1        AL1 1AB   517328  0206823  E00120196  E01023667   \n",
       "2        AL1 1AD   517328  0206823  E00120196  E01023667   \n",
       "3        AL1 1AE   517328  0206823  E00120196  E01023667   \n",
       "4        AL1 1AF   514600  0206900  E00120568  E01023743   \n",
       "...          ...      ...      ...        ...        ...   \n",
       "2352547  YO911WX   461396  0453976  E00185558  E01013406   \n",
       "2352548  YO911WY   461396  0453976  E00185558  E01013406   \n",
       "2352549  YO911WZ   461396  0453976  E00185558  E01013406   \n",
       "2352550  YO911XY   461395  0453977  E00185558  E01013406   \n",
       "2352551  YO951BT   477904  0448487  E00066196  E01013127   \n",
       "\n",
       "                              lsoa21nm   msoa21cd  \\\n",
       "0                       St Albans 014B  E02004937   \n",
       "1                       St Albans 013C  E02004936   \n",
       "2                       St Albans 013C  E02004936   \n",
       "3                       St Albans 013C  E02004936   \n",
       "4                       St Albans 014B  E02004937   \n",
       "...                                ...        ...   \n",
       "2352547                      York 005B  E02002776   \n",
       "2352548                      York 005B  E02002776   \n",
       "2352549                      York 005B  E02002776   \n",
       "2352550                      York 005B  E02002776   \n",
       "2352551  East Riding of Yorkshire 018E  E02002701   \n",
       "\n",
       "                             msoa21nm   ltla22cd                  ltla22nm  \\\n",
       "0                       St Albans 014  E07000240                 St Albans   \n",
       "1                       St Albans 013  E07000240                 St Albans   \n",
       "2                       St Albans 013  E07000240                 St Albans   \n",
       "3                       St Albans 013  E07000240                 St Albans   \n",
       "4                       St Albans 014  E07000240                 St Albans   \n",
       "...                               ...        ...                       ...   \n",
       "2352547                      York 005  E06000014                      York   \n",
       "2352548                      York 005  E06000014                      York   \n",
       "2352549                      York 005  E06000014                      York   \n",
       "2352550                      York 005  E06000014                      York   \n",
       "2352551  East Riding of Yorkshire 018  E06000011  East Riding of Yorkshire   \n",
       "\n",
       "         ... utla22nmw    rgn22cd                   rgn22nm rgn22nmw  \\\n",
       "0        ...       NaN  E12000006           East of England      NaN   \n",
       "1        ...       NaN  E12000006           East of England      NaN   \n",
       "2        ...       NaN  E12000006           East of England      NaN   \n",
       "3        ...       NaN  E12000006           East of England      NaN   \n",
       "4        ...       NaN  E12000006           East of England      NaN   \n",
       "...      ...       ...        ...                       ...      ...   \n",
       "2352547  ...       NaN  E12000003  Yorkshire and The Humber      NaN   \n",
       "2352548  ...       NaN  E12000003  Yorkshire and The Humber      NaN   \n",
       "2352549  ...       NaN  E12000003  Yorkshire and The Humber      NaN   \n",
       "2352550  ...       NaN  E12000003  Yorkshire and The Humber      NaN   \n",
       "2352551  ...       NaN  E12000003  Yorkshire and The Humber      NaN   \n",
       "\n",
       "          ctry22cd ctry22nm ctry22nmw    nat22cd            nat22nm  \\\n",
       "0        E92000001  England    Lloegr  K04000001  England and Wales   \n",
       "1        E92000001  England    Lloegr  K04000001  England and Wales   \n",
       "2        E92000001  England    Lloegr  K04000001  England and Wales   \n",
       "3        E92000001  England    Lloegr  K04000001  England and Wales   \n",
       "4        E92000001  England    Lloegr  K04000001  England and Wales   \n",
       "...            ...      ...       ...        ...                ...   \n",
       "2352547  E92000001  England    Lloegr  K04000001  England and Wales   \n",
       "2352548  E92000001  England    Lloegr  K04000001  England and Wales   \n",
       "2352549  E92000001  England    Lloegr  K04000001  England and Wales   \n",
       "2352550  E92000001  England    Lloegr  K04000001  England and Wales   \n",
       "2352551  E92000001  England    Lloegr  K04000001  England and Wales   \n",
       "\n",
       "               nat22nmw  \n",
       "0        Cymru a Lloegr  \n",
       "1        Cymru a Lloegr  \n",
       "2        Cymru a Lloegr  \n",
       "3        Cymru a Lloegr  \n",
       "4        Cymru a Lloegr  \n",
       "...                 ...  \n",
       "2352547  Cymru a Lloegr  \n",
       "2352548  Cymru a Lloegr  \n",
       "2352549  Cymru a Lloegr  \n",
       "2352550  Cymru a Lloegr  \n",
       "2352551  Cymru a Lloegr  \n",
       "\n",
       "[2352552 rows x 23 columns]>"
      ]
     },
     "execution_count": 8,
     "metadata": {},
     "output_type": "execute_result"
    }
   ],
   "source": [
    "correspondence.head"
   ]
  },
  {
   "cell_type": "code",
   "execution_count": null,
   "id": "3c19bcc5-ad50-4615-b067-48e89dc4426d",
   "metadata": {},
   "outputs": [],
   "source": []
  }
 ],
 "metadata": {
  "kernelspec": {
   "display_name": "Python 3 (ipykernel)",
   "language": "python",
   "name": "python3"
  },
  "language_info": {
   "codemirror_mode": {
    "name": "ipython",
    "version": 3
   },
   "file_extension": ".py",
   "mimetype": "text/x-python",
   "name": "python",
   "nbconvert_exporter": "python",
   "pygments_lexer": "ipython3",
   "version": "3.10.5"
  }
 },
 "nbformat": 4,
 "nbformat_minor": 5
}
