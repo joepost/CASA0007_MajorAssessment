{
 "cells": [
  {
   "cell_type": "markdown",
   "id": "1c82d778-34e4-4d9e-bbf6-0c925ea9485c",
   "metadata": {},
   "source": [
    "# CASA0007 Major Assignment"
   ]
  },
  {
   "cell_type": "markdown",
   "id": "cade1c3f-867d-4e4e-9a91-fba61e5f7649",
   "metadata": {},
   "source": [
    "## 1. Overview\n",
    "\n",
    "### 1.1 Research question\n",
    "How are levels of unment HIV pre-exposure prophylaxis (PrEP) need associated with regional characteristics in England?\n",
    "\n",
    "### 1.2 Data Sources\n",
    "1. UK Health Security Agency PrEP Tables, from the [National PrEP monitoring and evaluation framework](https://www.gov.uk/government/publications/hiv-pre-exposure-prophylaxis-prep-monitoring-and-evaluation)  \n",
    "    - HIV PrEP Need  \n",
    "    - HIV prevalence  \n",
    "    - HIV new diagnosis rates  \n",
    "2. ONS Census [Geographical Correspondence](https://www.ons.gov.uk/methodology/geography/ukgeographies/administrativegeography/england)\n",
    "3. ONS Census Demographic Data, from [Nomis](https://www.nomisweb.co.uk/sources/census_2011_ks)  \n",
    "    - Country of birth\n",
    "    - Ethnicity\n",
    "    - Religion\n",
    "    - Age structure\n",
    "    - Population density\n",
    "    - Living arrangements\n",
    "    - Marriages/Civil partnerships\n",
    "    - Socioeconomic status\n",
    "    - Years lived in the UK\n",
    "4. Rural/Urban Population by Local Authority, from [Department for Environment, Food and Rural Affairs](https://www.gov.uk/government/statistics/2011-rural-urban-classification-of-local-authority-and-other-higher-level-geographies-for-statistical-purposes)\n",
    "\n",
    "**Data still need to source:**\n",
    "- Sexual health service funding by county\n",
    "- Social attitudes by county (e.g. indicators of openness to LGBT community)\n"
   ]
  },
  {
   "cell_type": "code",
   "execution_count": 1,
   "id": "a06c8f7a-1d77-4d72-aff1-66d3ef20c51a",
   "metadata": {},
   "outputs": [],
   "source": [
    "#Reading in libaries\n",
    "import pandas as pd\n",
    "import numpy as np\n",
    "import matplotlib.pyplot as plt\n",
    "import seaborn as sns\n",
    "from statsmodels.formula.api import ols\n",
    "from sklearn.model_selection import train_test_split\n",
    "from sklearn.linear_model import LinearRegression\n",
    "import statsmodels.api as sm\n",
    "from statsmodels.stats.outliers_influence import variance_inflation_factor"
   ]
  },
  {
   "cell_type": "code",
   "execution_count": 13,
   "id": "d984ca91-ee41-4b06-9891-cf672441b335",
   "metadata": {},
   "outputs": [],
   "source": [
    "# import sys\n",
    "# !{sys.executable} -m pip install skimpy\n",
    "from skimpy import clean_columns"
   ]
  },
  {
   "cell_type": "markdown",
   "id": "f4ccfb7a-c7f0-47cd-afff-9cdbfe033c23",
   "metadata": {},
   "source": [
    "## 2. Analysis"
   ]
  },
  {
   "cell_type": "markdown",
   "id": "49f96649-4a89-470c-ab43-8975abc63b7b",
   "metadata": {},
   "source": [
    "### 2.1 Load data\n",
    "\n",
    "**Geographic Correspondence File**"
   ]
  },
  {
   "cell_type": "code",
   "execution_count": 3,
   "id": "9e8c6072-6a45-45f6-96ed-45c6676c287f",
   "metadata": {},
   "outputs": [],
   "source": [
    "# Read in correspondence data\n",
    "correspondence = pd.read_csv('data/pcd_oa_lsoa_msoa_ltla_utla_rgn_ctry_ew_may_2021_lu_v2.csv',\n",
    "                            dtype='str')\n",
    "\n",
    "# correspondence.dtypes"
   ]
  },
  {
   "cell_type": "code",
   "execution_count": 4,
   "id": "b36eb4f3-5527-4465-9b66-002e671d1d20",
   "metadata": {},
   "outputs": [],
   "source": [
    "# correspondence.head(5)"
   ]
  },
  {
   "cell_type": "markdown",
   "id": "d60eede7-4458-41c5-a196-22485cec44c4",
   "metadata": {},
   "source": [
    "**Urban Rural Classification**"
   ]
  },
  {
   "cell_type": "code",
   "execution_count": 15,
   "id": "df84f31f-909c-40d8-9cfa-d6f41149b5e0",
   "metadata": {},
   "outputs": [
    {
     "data": {
      "text/html": [
       "<pre style=\"white-space:pre;overflow-x:auto;line-height:normal;font-family:Menlo,'DejaVu Sans Mono',consolas,'Courier New',monospace\"><span style=\"color: #008080; text-decoration-color: #008080; font-weight: bold\">9</span> column names have been cleaned\n",
       "</pre>\n"
      ],
      "text/plain": [
       "\u001b[1;36m9\u001b[0m column names have been cleaned\n"
      ]
     },
     "metadata": {},
     "output_type": "display_data"
    },
    {
     "data": {
      "text/plain": [
       "lad_11_cd                                                          object\n",
       "lad_11_nm                                                          object\n",
       "ruc_11_cd                                                         float64\n",
       "ruc_11                                                             object\n",
       "rural_population_1                                                 object\n",
       "hub_towns_rural_related_population_1                               object\n",
       "rural_including_hub_towns_rural_&_rural_related_population_1       object\n",
       "total_population_1                                                 object\n",
       "rural_including_hub_towns_rural_&_rural_related_population_1_1     object\n",
       "dtype: object"
      ]
     },
     "execution_count": 15,
     "metadata": {},
     "output_type": "execute_result"
    }
   ],
   "source": [
    "ruralurban = clean_columns(pd.read_csv('data/RUC11_LAD11_ENv2.csv'))\n",
    "\n",
    "ruralurban.dtypes"
   ]
  },
  {
   "cell_type": "code",
   "execution_count": 16,
   "id": "10f197fb-69e0-4f6b-9f28-a831894d9b93",
   "metadata": {},
   "outputs": [],
   "source": [
    "# Need to combine rural-urban outputs in some way, to align with smaller list used in HIV and census data\n",
    "# Same issue appears to be present in comparison of the census data vs HIV and rural-urban data"
   ]
  },
  {
   "cell_type": "markdown",
   "id": "d8972a45-54ec-43d1-96ae-bb6e5b3cc031",
   "metadata": {},
   "source": [
    "**HIV Data: PrEP Need**"
   ]
  },
  {
   "cell_type": "code",
   "execution_count": 5,
   "id": "7e94e2b2-9423-4f79-af1b-827506b2bf8e",
   "metadata": {},
   "outputs": [],
   "source": [
    "# Read in outcome (HIV and PrEP) data\n",
    "hivprepneed = pd.read_csv('data/STI by county/hiv-prep-need.csv')\n",
    "\n",
    "# hivprepneed.dtypes\n",
    "#All fields read in as expected\n",
    "\n",
    "# Remove first row (contains England total)\n",
    "hivprepneed.drop(index = 0, inplace = True)"
   ]
  },
  {
   "cell_type": "code",
   "execution_count": 6,
   "id": "163bd66c-225c-4eb3-9846-bbe8bf20fffb",
   "metadata": {},
   "outputs": [],
   "source": [
    "# hivprepneed.head(5)"
   ]
  },
  {
   "cell_type": "code",
   "execution_count": 7,
   "id": "e8f55d74-380d-4df3-8f73-6c2d8f3f663d",
   "metadata": {},
   "outputs": [],
   "source": [
    "# Read in HIV new diagnosis data\n",
    "hivnewdiagnosis = pd.read_csv('data/STI by county/new-hiv-diagnosis.csv')\n",
    "\n",
    "# Remove first row (contains England total)\n",
    "hivnewdiagnosis.drop(index = 0, inplace = True)\n",
    "\n",
    "# hivnewdiagnosis.head(5)"
   ]
  },
  {
   "cell_type": "code",
   "execution_count": 8,
   "id": "e9e85075-2e3b-4ef1-9dc9-f4f31f4c179a",
   "metadata": {},
   "outputs": [],
   "source": [
    "# Read in HIV PrEP use data\n",
    "hivprepuse = pd.read_csv('data/STI by county/hiv-prep-use.csv')\n",
    "\n",
    "# Remove first row (contains England total)\n",
    "hivprepuse.drop(index = 0, inplace = True)\n",
    "\n",
    "# hivprepuse.head(5)"
   ]
  },
  {
   "cell_type": "code",
   "execution_count": 9,
   "id": "6a810b56-3f4e-4b10-aeb7-fd72ffb27446",
   "metadata": {},
   "outputs": [],
   "source": [
    "# Read in HIV prevalence data\n",
    "hivprevalence = pd.read_csv('data/STI by county/hiv-prevalence.csv')\n",
    "\n",
    "# Remove first row (contains England total)\n",
    "# hivprevalence.drop(index = 0, inplace = True)\n",
    "\n",
    "# hivprevalence.head(5)"
   ]
  },
  {
   "cell_type": "markdown",
   "id": "c223ee2b-eb2e-4106-9723-fcb74ed74ff2",
   "metadata": {},
   "source": [
    "**Census Demographic Data**"
   ]
  },
  {
   "cell_type": "code",
   "execution_count": 10,
   "id": "e704dcc4-77c3-4db2-bfdc-97ac3f760b6c",
   "metadata": {},
   "outputs": [
    {
     "data": {
      "text/html": [
       "<pre style=\"white-space:pre;overflow-x:auto;line-height:normal;font-family:Menlo,'DejaVu Sans Mono',consolas,'Courier New',monospace\"><span style=\"color: #008080; text-decoration-color: #008080; font-weight: bold\">14</span> column names have been cleaned\n",
       "</pre>\n"
      ],
      "text/plain": [
       "\u001b[1;36m14\u001b[0m column names have been cleaned\n"
      ]
     },
     "metadata": {},
     "output_type": "display_data"
    }
   ],
   "source": [
    "# Read in predictor data (Census demographics)\n",
    "cob = pd.read_csv('data/Census by county/county-cob.csv')\n",
    "\n",
    "cob = clean_columns(cob)\n",
    "\n",
    "# cob.head(5)"
   ]
  },
  {
   "cell_type": "markdown",
   "id": "e69f37fd-427f-440b-989f-91dd12b8c534",
   "metadata": {},
   "source": [
    "### 2.2 Descriptive statistics"
   ]
  },
  {
   "cell_type": "code",
   "execution_count": 11,
   "id": "b9bdb43f-a5b5-4a00-9622-0245480573d0",
   "metadata": {},
   "outputs": [],
   "source": [
    "# hivprepneed.describe()"
   ]
  },
  {
   "cell_type": "code",
   "execution_count": 12,
   "id": "4db68ed4-360f-42f2-b521-6606826518a3",
   "metadata": {},
   "outputs": [
    {
     "data": {
      "image/png": "[encoded data removed]",
      "text/plain": [
       "<Figure size 1152x576 with 2 Axes>"
      ]
     },
     "metadata": {
      "needs_background": "light"
     },
     "output_type": "display_data"
    }
   ],
   "source": [
    "fig, (ax1, ax2) = plt.subplots(1, 2, figsize=(16,8))\n",
    "ax1.boxplot(hivprepneed.Value,\n",
    "           vert = True)\n",
    "ax1.set_title(\"HIV PrEP Need by County\")\n",
    "ax2.hist(hivprepneed.Value,\n",
    "        bins = 100)\n",
    "ax2.set_title(\"Histogram of HIV PrEP Need by County\")\n",
    "plt.show()"
   ]
  },
  {
   "cell_type": "markdown",
   "id": "4650afa1-1a74-4602-aa41-0f9ac893acc7",
   "metadata": {},
   "source": [
    "Reading the figure above, PrEP need is skewed towards the right, with a small handful of counties having much higher rates compared with the mean and median values.   \n",
    "**Q:** Is this skew too extreme to meet the assumptions for a normal distribution? Should a transformation be applied or outliers removed?  \n",
    "**A:** Should avoid removing outliers as in this case they are likely very important to the underlying processes (e.g. the social factors which will be examined as predictors are likely part of the reason for these extreme values, not a random or unexpected oddity).  \n",
    "Could use a normalisation/standardisation method to reduce the skew? (Or will this just reduce the magnitude of variation?)"
   ]
  }
 ],
 "metadata": {
  "kernelspec": {
   "display_name": "Python 3 (ipykernel)",
   "language": "python",
   "name": "python3"
  },
  "language_info": {
   "codemirror_mode": {
    "name": "ipython",
    "version": 3
   },
   "file_extension": ".py",
   "mimetype": "text/x-python",
   "name": "python",
   "nbconvert_exporter": "python",
   "pygments_lexer": "ipython3",
   "version": "3.10.5"
  }
 },
 "nbformat": 4,
 "nbformat_minor": 5
}
